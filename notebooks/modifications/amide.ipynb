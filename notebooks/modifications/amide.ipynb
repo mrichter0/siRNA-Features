{
 "cells": [
  {
   "cell_type": "code",
   "execution_count": 33,
   "id": "d4994c06-8586-4447-a437-8cff9d2ca403",
   "metadata": {},
   "outputs": [],
   "source": [
    "from pymol import cmd\n",
    "import numpy as np\n",
    "import os\n",
    "cif_file = \"/data/home/mrichte3/RNASeq/output_cifs_overlap/ENSG00000005073.cif\"\n",
    "cmd.reinitialize()\n",
    "cmd.load(cif_file, 'PIK3CB_guide_target') \n",
    "cmd.select(\"phosphate_atoms\", \"chain B and resi 1 and (name OP1 or name OP2 or name P)\")\n",
    "cmd.extract(\"phosphate_group\", \"phosphate_atoms\")\n",
    "cmd.remove(\"phosphate_atoms\")\n",
    "cmd.select(\"phosphate_atoms\", \"chain C and resi 1 and (name OP1 or name OP2 or name P)\")\n",
    "cmd.extract(\"phosphate_group\", \"phosphate_atoms\")\n",
    "cmd.remove(\"phosphate_atoms\")\n",
    "output_dir = '/data/home/mrichte3/RNASeq/unmod'\n",
    "basename = os.path.splitext(os.path.basename(cif_file))[0]\n",
    "cmd.save(f\"{basename}.pdb\", 'PIK3CB_guide_target')\n"
   ]
  },
  {
   "cell_type": "code",
   "execution_count": null,
   "id": "67530a5b-bc84-4c75-97b2-23d251d919e1",
   "metadata": {},
   "outputs": [],
   "source": [
    "def run_mini(command, input_text=None):\n",
    "    result = subprocess.run(command, capture_output=True, text=True, input=input_text)\n",
    "    output = result.stdout + result.stderr\n",
    "    print(output)\n",
    "    for line in output.splitlines():\n",
    "        if (\"steepest descents converged to\" in line.lower() or\n",
    "            # \"fatal\" in line.lower() or\n",
    "            # \"error\" in line.lower() or\n",
    "            \"largest distance between excluded atoms:\" in line.lower() or\n",
    "            \"inf, atom= \" in line.lower() or\n",
    "            \"steepest descents did not converge\" in line.lower()):\n",
    "            print(line, file=sys.stderr)\n",
    "            if \"inf, atom= \" in line.lower():\n",
    "                atom_match = re.search(r'inf, atom= (\\d+)', line)\n",
    "                if atom_match:\n",
    "                    atom = int(atom_match.group(1))\n",
    "                    print(atom)\n",
    "                    return f\"Error at atom: {atom}\"\n",
    "            match = re.search(r'(\\d+) steps', line)\n",
    "            if match:\n",
    "                steps = int(match.group(1))\n",
    "                return steps == 5001\n",
    "def run_command(command, input_text=None, max_chars=100):\n",
    "    result = subprocess.run(command, capture_output=True, text=True, input=input_text)\n",
    "    output = result.stdout + result.stderr\n",
    "    print(output)\n",
    "    for line in output.splitlines():\n",
    "        if (\"largest distance between excluded atoms\" in line.lower() or \n",
    "            \"largest distance between excluded atoms:\" in line.lower() or\n",
    "            \"steepest descents did not converge\" in line.lower() or\n",
    "            \"error 1 [file ions.mdp]\" in line.lower()):\n",
    "            print(line.strip(), file=sys.stderr)\n",
    "\n",
    "# command = [\"gmx\", \"make_ndx\", \"-f\", \"structure_solv_ions.gro\", \"-o\", \"index.ndx\"]\n",
    "# input_text = \"name 19 SOLV\\n1 | 12\\nname 20 SOLU\\nq\\n\"\n",
    "# run_command(command, input_text)\n",
    "\n",
    "command = [\"gmx\", \"grompp\", \"-v\", \"-f\", f\"step4.0_minimization.mdp\", \"-o\", f\"step4.0_minimization.tpr\", \n",
    "           \"-c\", f\"structure_solv_ions.gro\", \"-r\", f\"structure_solv_ions.gro\", \n",
    "           \"-p\", \"topol.top\", \"-n\", \"index.ndx\", \"-maxwarn\", \"5\"]\n",
    "run_mini(command)\n",
    "command = [\"gmx\", \"mdrun\", \"-v\", \"-deffnm\", \"step4.0_minimization\", \"-ntmpi\", \"1\"]\n",
    "tries = 0\n",
    "while tries < 3 and not run_mini(command): ###\n",
    "    tries += 1"
   ]
  },
  {
   "cell_type": "code",
   "execution_count": 5,
   "id": "72cb1be3-08f4-418d-8448-4eaf022b41f5",
   "metadata": {},
   "outputs": [
    {
     "name": "stdout",
     "output_type": "stream",
     "text": [
      "Number of pdb_files to process: 11294\n",
      "Current input_pdb: ENSG00000005469.pdb\n"
     ]
    },
    {
     "name": "stderr",
     "output_type": "stream",
     "text": [
      "The largest distance between excluded atoms is 2.098 nm between atom 14346 and 14351\n",
      "The largest distance between excluded atoms is 2.098 nm between atom\n",
      "Step=    0, Dmax= 1.0e+05 nm, Epot=  6.03870e+16 Fmax=         inf, atom= 13790\n"
     ]
    },
    {
     "name": "stdout",
     "output_type": "stream",
     "text": [
      "13790\n"
     ]
    },
    {
     "name": "stderr",
     "output_type": "stream",
     "text": [
      "The largest distance between excluded atoms is 2.094 nm between atom 14346 and 14351\n",
      "The largest distance between excluded atoms is 2.094 nm between atom\n",
      "Process ENSG00000005469.pdb failed in 8.37 seconds.\n"
     ]
    }
   ],
   "source": [
    "import subprocess\n",
    "import os\n",
    "import shutil\n",
    "import time\n",
    "import re\n",
    "import sys\n",
    "\n",
    "\n",
    "os.environ['PATH'] = '/data/home/mrichte3/gromacs-2024.2/install/bin:' + os.environ['PATH']\n",
    "if 'LD_LIBRARY_PATH' in os.environ:\n",
    "    os.environ['LD_LIBRARY_PATH'] = '/data/home/mrichte3/gromacs-2024.2/install/lib:' + os.environ['LD_LIBRARY_PATH']\n",
    "else:\n",
    "    os.environ['LD_LIBRARY_PATH'] = '/data/home/mrichte3/gromacs-2024.2/install/lib'\n",
    "os.environ['GMX_MAXBACKUP'] = '-1'\n",
    "# os.environ['GMX_MAXCONSTRWARN'] = '-1'\n",
    "\n",
    "# if len(sys.argv) != 2:\n",
    "#     print(\"Usage: python script.py <gpu_index>\", flush=True)\n",
    "#     sys.exit(1)\n",
    "# gpu_index = int(sys.argv[1])\n",
    "gpu_index = 0\n",
    "num_gpus = 6\n",
    "pdb_directory = '/data/home/mrichte3/RNASeq/amide/'\n",
    "# pdb_directory = '/data/home/mrichte3/RNASeq/gna/'\n",
    "\n",
    "\n",
    "\n",
    "# def run_command(command, input_text=None, max_chars=100):\n",
    "#     result = subprocess.run(command, capture_output=True, text=True, input=input_text)\n",
    "#     output = result.stdout + result.stderr\n",
    "#     print(output)\n",
    "#     for line in output.splitlines():\n",
    "#         # if (\"warning\" in line.lower() or \"fatal\" in line.lower() or \"random\" in line.lower() or \n",
    "#         if (\"largest distance between excluded atoms:\" in line.lower()):\n",
    "#             print(line, file=sys.stderr)\n",
    "def run_command(command, input_text=None, max_chars=100):\n",
    "    result = subprocess.run(command, capture_output=True, text=True, input=input_text)\n",
    "    output = result.stdout + result.stderr\n",
    "    # print(output)\n",
    "    for line in output.splitlines():\n",
    "        if (\"largest distance between excluded atoms\" in line.lower() or \n",
    "            \"largest distance between excluded atoms:\" in line.lower() or\n",
    "            \"steepest descents did not converge\" in line.lower() or\n",
    "            \"error 1 [file ions.mdp]\" in line.lower()):\n",
    "            print(line.strip(), file=sys.stderr)\n",
    "\n",
    "def run_mini(command, input_text=None):\n",
    "    result = subprocess.run(command, capture_output=True, text=True, input=input_text)\n",
    "    output = result.stdout + result.stderr\n",
    "    # print(output)\n",
    "    for line in output.splitlines():\n",
    "        if (\"steepest descents converged to\" in line.lower() or\n",
    "            # \"fatal\" in line.lower() or\n",
    "            # \"error\" in line.lower() or\n",
    "            \"largest distance between excluded atoms:\" in line.lower() or\n",
    "            \"inf, atom= \" in line.lower() or\n",
    "            \"steepest descents did not converge\" in line.lower()):\n",
    "            print(line, file=sys.stderr)\n",
    "            if \"inf, atom= \" in line.lower():\n",
    "                atom_match = re.search(r'inf, atom= (\\d+)', line)\n",
    "                if atom_match:\n",
    "                    atom = int(atom_match.group(1))\n",
    "                    print(atom)\n",
    "                    return f\"Error at atom: {atom}\"\n",
    "            match = re.search(r'(\\d+) steps', line)\n",
    "            if match:\n",
    "                steps = int(match.group(1))\n",
    "                return steps == 5001\n",
    "    return False\n",
    "    \n",
    "def run_stucture_setup(input_pdb):\n",
    "    rm_command = \"rm *.gro\"\n",
    "    subprocess.run(rm_command, shell=True)\n",
    "    rm_command = \"rm *.tpr\"\n",
    "    subprocess.run(rm_command, shell=True)\n",
    "    command = [\"gmx\", \"pdb2gmx\", \"-f\", f\"{input_pdb}\", \"-o\", \"structure_processed.gro\", \n",
    "               \"-p\", \"topol.top\", \"-i\", \"posre.itp\"]\n",
    "    input_text = \"6\\n1\\n\"        ############ 6 1 for custom\n",
    "    run_command(command, input_text)\n",
    "    command = [\"gmx\", \"editconf\", \"-f\", \"structure_processed.gro\", \"-o\", \"structure_box.gro\", \"-c\", \"-d\", \"1.0\", \"-bt\", \"cubic\"]\n",
    "    run_command(command)\n",
    "    command = [\"gmx\", \"solvate\", \"-cp\", \"structure_box.gro\", \"-cs\", \"spc216.gro\", \"-o\", \"structure_solv.gro\", \"-p\", \"topol.top\"]\n",
    "    run_command(command)\n",
    "    ###########################fails\n",
    "    command = [\"gmx\", \"grompp\", \"-f\", \"ions.mdp\", \"-c\", \"structure_solv.gro\", \"-p\", \"topol.top\", \"-o\", \"ions.tpr\", \"-maxwarn\", \"3\"]\n",
    "    run_command(command)\n",
    "    command = [\"gmx\", \"genion\", \"-s\", \"ions.tpr\", \"-o\", \"structure_solv_ions.gro\", \"-p\", \"topol.top\", \n",
    "               \"-pname\", \"NA\", \"-nname\", \"CL\", \"-neutral\", \"-conc\", \"0.15\", \"-seed\", \"12345\"]\n",
    "    input_text = \"14\\n\"\n",
    "    run_command(command, input_text)\n",
    "    command = [\"gmx\", \"make_ndx\", \"-f\", \"structure_solv_ions.gro\", \"-o\", \"index.ndx\"]\n",
    "    input_text = \"name 19 SOLV\\n1 | 12\\nname 20 SOLU\\nq\\n\"\n",
    "    run_command(command, input_text)\n",
    "\n",
    "def get_pdb_files(pdb_directory, gpu_index, num_gpus):\n",
    "    error_file_path = f\"{pdb_directory}errors.txt\"\n",
    "    error_entries = set()\n",
    "    if os.path.isfile(error_file_path):\n",
    "        with open(error_file_path, \"r\") as error_file:\n",
    "            error_entries = {line.strip() for line in error_file}\n",
    "    # pdb_files = sorted([f for f in os.listdir(pdb_directory) if f.endswith('.pdb')])\n",
    "    pdb_files = sorted([f for f in os.listdir(pdb_directory) if f.endswith('.pdb')])\n",
    "    # completed_files = {os.path.splitext(f)[0] for f in os.listdir(os.path.join(pdb_directory, 'step5')) if f.endswith('.gro')}\n",
    "    # pdb_files = [f for f in pdb_files if os.path.splitext(f)[0] not in completed_files and os.path.splitext(f)[0] not in {os.path.splitext(entry)[0] for entry in error_entries}]\n",
    "    # pdb_files = [f for f in pdb_files if os.path.splitext(f)[0] not in completed_files]\n",
    "    # total_rows = len(pdb_files)\n",
    "    # portion_size = total_rows // num_gpus\n",
    "    # start_idx = gpu_index * portion_size\n",
    "    # end_idx = (gpu_index + 1) * portion_size if gpu_index < (num_gpus - 1) else total_rows\n",
    "    # pdb_files = pdb_files[start_idx:end_idx]\n",
    "    return pdb_files\n",
    "\n",
    "pdb_files = get_pdb_files(pdb_directory, gpu_index, num_gpus)\n",
    "print(f\"Number of pdb_files to process: {len(pdb_files)}\")\n",
    "\n",
    "\n",
    "\n",
    "for input_pdb in pdb_files:\n",
    "    if input_pdb != \"ENSG00000005469.pdb\":\n",
    "        continue\n",
    "    print(f\"Current input_pdb: {input_pdb}\")\n",
    "    start_time = time.time()\n",
    "    run_stucture_setup(os.path.join(pdb_directory, input_pdb))\n",
    "\n",
    "    command = [\"gmx\", \"grompp\", \"-v\", \"-f\", f\"step4.0_minimization.mdp\", \"-o\", f\"step4.0_minimization.tpr\", \n",
    "               \"-c\", f\"structure_solv_ions.gro\", \"-r\", f\"structure_solv_ions.gro\", \n",
    "               \"-p\", \"topol.top\", \"-n\", \"index.ndx\", \"-maxwarn\", \"5\"]\n",
    "    run_mini(command)\n",
    "    command = [\"gmx\", \"mdrun\", \"-v\", \"-deffnm\", \"step4.0_minimization\", \"-ntmpi\", \"1\"]\n",
    "    tries = 0\n",
    "    while tries < 3 and not run_mini(command): ###\n",
    "        tries += 1\n",
    "    command_grompp = [\"gmx\", \"grompp\", \"-f\", f\"step5_production.mdp\", \"-o\", f\"step5.tpr\",\n",
    "                      \"-c\", f\"step4.0_minimization.gro\", \"-p\", \"topol.top\", \"-n\", \"index.ndx\", \"-maxwarn\", \"5\"]\n",
    "    run_command(command_grompp)\n",
    "    command_mdrun = [\"gmx\", \"mdrun\", \"-v\", \"-deffnm\", \"step5\", \"-ntmpi\", \"1\"]\n",
    "    run_command(command_mdrun)\n",
    "\n",
    "    elapsed_time = time.time() - start_time\n",
    "\n",
    "    if not os.path.isfile(\"step5.gro\"):\n",
    "        # with open(f\"{pdb_directory}errors.txt\", \"a\") as error_file:\n",
    "        #     error_file.write(f\"{input_pdb}\\n\")\n",
    "        print(f\"Process {input_pdb} failed in {elapsed_time:.2f} seconds.\", file=sys.stderr)\n",
    "    else:\n",
    "        basename = os.path.splitext(os.path.basename(input_pdb))[0]\n",
    "        # mv_command = [\"mv\", \"step5.gro\", f\"{pdb_directory}step5/{basename}.gro\"]\n",
    "        # run_command(mv_command)\n",
    "##################################################\n",
    "        # mv_command = [\"mv\", \"step4.0_minimization.gro\", f\"step4.0_minimization_1.gro\"]\n",
    "        # run_command(mv_command)\n",
    "        # mv_command = [\"mv\", \"step5.gro\", f\"step5_1.gro\"]\n",
    "        # run_command(mv_command)\n",
    "#################################################\n",
    "        print(f\"Process {input_pdb} completed in {elapsed_time:.2f} seconds.\", flush=True)\n",
    "    rm_command = \"rm step*.pdb\"\n",
    "    subprocess.run(rm_command, shell=True)\n",
    "\n",
    "\n",
    "\n",
    "\n",
    "\n",
    "\n",
    "\n",
    "\n",
    "\n",
    "\n",
    "\n"
   ]
  },
  {
   "cell_type": "code",
   "execution_count": null,
   "id": "ce7ab9b2-83fd-4165-b4ee-9ea27fa54934",
   "metadata": {
    "collapsed": true,
    "jupyter": {
     "outputs_hidden": true,
     "source_hidden": true
    }
   },
   "outputs": [
    {
     "name": "stderr",
     "output_type": "stream",
     "text": [
      "Setting the maximum number of constraint warnings to 2147483647\n"
     ]
    },
    {
     "name": "stdout",
     "output_type": "stream",
     "text": [
      "Process ENSG00000079150.pdb completed in 262.89 seconds.\n",
      "Current input_pdb: ENSG00000079156.pdb\n"
     ]
    },
    {
     "name": "stderr",
     "output_type": "stream",
     "text": [
      "WARNING: Masses and atomic (Van der Waals) radii will be guessed\n",
      "WARNING 1 [file topol.top, line 50]:\n",
      "WARNING 2 [file topol.top, line 50]:\n",
      "There were 2 WARNINGs\n",
      "Using random seed 12345.\n",
      "Steepest Descents did not converge to Fmax < 0 in 5001 steps.\n",
      "WARNING 1 [file topol.top, line 52]:\n",
      "There was 1 WARNING\n",
      "Setting the maximum number of constraint warnings to 2147483647\n"
     ]
    },
    {
     "name": "stdout",
     "output_type": "stream",
     "text": [
      "Process ENSG00000079156.pdb completed in 203.53 seconds.\n",
      "Current input_pdb: ENSG00000079215.pdb\n"
     ]
    },
    {
     "name": "stderr",
     "output_type": "stream",
     "text": [
      "WARNING: Masses and atomic (Van der Waals) radii will be guessed\n",
      "WARNING 1 [file topol.top, line 50]:\n",
      "WARNING 2 [file topol.top, line 50]:\n",
      "There were 2 WARNINGs\n",
      "Using random seed 12345.\n",
      "Steepest Descents did not converge to Fmax < 0 in 5001 steps.\n",
      "WARNING 1 [file topol.top, line 52]:\n",
      "There was 1 WARNING\n",
      "Setting the maximum number of constraint warnings to 2147483647\n"
     ]
    },
    {
     "name": "stdout",
     "output_type": "stream",
     "text": [
      "Process ENSG00000079215.pdb completed in 210.36 seconds.\n",
      "Current input_pdb: ENSG00000079246.pdb\n"
     ]
    },
    {
     "name": "stderr",
     "output_type": "stream",
     "text": [
      "WARNING: Masses and atomic (Van der Waals) radii will be guessed\n",
      "WARNING 1 [file topol.top, line 50]:\n",
      "WARNING 2 [file topol.top, line 50]:\n",
      "There were 2 WARNINGs\n",
      "Using random seed 12345.\n",
      "Steepest Descents converged to machine precision in 4735 steps,\n",
      "Steepest Descents did not converge to Fmax < 0 in 5001 steps.\n",
      "WARNING 1 [file topol.top, line 52]:\n",
      "There was 1 WARNING\n",
      "Setting the maximum number of constraint warnings to 2147483647\n"
     ]
    },
    {
     "name": "stdout",
     "output_type": "stream",
     "text": [
      "Process ENSG00000079246.pdb completed in 237.22 seconds.\n",
      "Current input_pdb: ENSG00000079257.pdb\n"
     ]
    },
    {
     "name": "stderr",
     "output_type": "stream",
     "text": [
      "WARNING: Masses and atomic (Van der Waals) radii will be guessed\n",
      "WARNING 1 [file topol.top, line 50]:\n",
      "WARNING 2 [file topol.top, line 50]:\n",
      "There were 2 WARNINGs\n",
      "Using random seed 12345.\n",
      "Steepest Descents converged to machine precision in 3410 steps,\n",
      "Steepest Descents did not converge to Fmax < 0 in 5001 steps.\n",
      "WARNING 1 [file topol.top, line 52]:\n",
      "There was 1 WARNING\n",
      "Setting the maximum number of constraint warnings to 2147483647\n"
     ]
    },
    {
     "name": "stdout",
     "output_type": "stream",
     "text": [
      "Process ENSG00000079257.pdb completed in 239.70 seconds.\n",
      "Current input_pdb: ENSG00000079277.pdb\n"
     ]
    },
    {
     "name": "stderr",
     "output_type": "stream",
     "text": [
      "WARNING: Masses and atomic (Van der Waals) radii will be guessed\n",
      "WARNING 1 [file topol.top, line 50]:\n",
      "WARNING 2 [file topol.top, line 50]:\n",
      "There were 2 WARNINGs\n",
      "Using random seed 12345.\n",
      "Steepest Descents did not converge to Fmax < 0 in 5001 steps.\n",
      "WARNING 1 [file topol.top, line 52]:\n",
      "There was 1 WARNING\n",
      "Setting the maximum number of constraint warnings to 2147483647\n"
     ]
    },
    {
     "name": "stdout",
     "output_type": "stream",
     "text": [
      "Process ENSG00000079277.pdb completed in 199.04 seconds.\n",
      "Current input_pdb: ENSG00000079308.pdb\n"
     ]
    },
    {
     "name": "stderr",
     "output_type": "stream",
     "text": [
      "WARNING: Masses and atomic (Van der Waals) radii will be guessed\n",
      "WARNING 1 [file topol.top, line 50]:\n",
      "WARNING 2 [file topol.top, line 50]:\n",
      "There were 2 WARNINGs\n",
      "Using random seed 12345.\n",
      "Steepest Descents did not converge to Fmax < 0 in 5001 steps.\n",
      "WARNING 1 [file topol.top, line 52]:\n",
      "There was 1 WARNING\n",
      "Setting the maximum number of constraint warnings to 2147483647\n"
     ]
    },
    {
     "name": "stdout",
     "output_type": "stream",
     "text": [
      "Process ENSG00000079308.pdb completed in 198.71 seconds.\n",
      "Current input_pdb: ENSG00000079313.pdb\n"
     ]
    },
    {
     "name": "stderr",
     "output_type": "stream",
     "text": [
      "WARNING: Masses and atomic (Van der Waals) radii will be guessed\n",
      "WARNING 1 [file topol.top, line 50]:\n",
      "WARNING 2 [file topol.top, line 50]:\n",
      "There were 2 WARNINGs\n",
      "Using random seed 12345.\n",
      "Steepest Descents converged to machine precision in 4788 steps,\n",
      "Steepest Descents did not converge to Fmax < 0 in 5001 steps.\n",
      "WARNING 1 [file topol.top, line 52]:\n",
      "There was 1 WARNING\n",
      "Setting the maximum number of constraint warnings to 2147483647\n"
     ]
    },
    {
     "name": "stdout",
     "output_type": "stream",
     "text": [
      "Process ENSG00000079313.pdb completed in 258.82 seconds.\n",
      "Current input_pdb: ENSG00000079332.pdb\n"
     ]
    },
    {
     "name": "stderr",
     "output_type": "stream",
     "text": [
      "WARNING: Masses and atomic (Van der Waals) radii will be guessed\n",
      "WARNING 1 [file topol.top, line 50]:\n",
      "WARNING 2 [file topol.top, line 50]:\n",
      "There were 2 WARNINGs\n",
      "Using random seed 12345.\n",
      "Steepest Descents did not converge to Fmax < 0 in 5001 steps.\n",
      "WARNING 1 [file topol.top, line 52]:\n",
      "There was 1 WARNING\n",
      "Setting the maximum number of constraint warnings to 2147483647\n"
     ]
    },
    {
     "name": "stdout",
     "output_type": "stream",
     "text": [
      "Process ENSG00000079332.pdb completed in 208.17 seconds.\n",
      "Current input_pdb: ENSG00000079335.pdb\n"
     ]
    },
    {
     "name": "stderr",
     "output_type": "stream",
     "text": [
      "WARNING: Masses and atomic (Van der Waals) radii will be guessed\n",
      "WARNING 1 [file topol.top, line 50]:\n",
      "WARNING 2 [file topol.top, line 50]:\n",
      "There were 2 WARNINGs\n",
      "Using random seed 12345.\n",
      "Steepest Descents converged to machine precision in 3168 steps,\n",
      "Steepest Descents did not converge to Fmax < 0 in 5001 steps.\n",
      "WARNING 1 [file topol.top, line 52]:\n",
      "There was 1 WARNING\n",
      "Setting the maximum number of constraint warnings to 2147483647\n"
     ]
    },
    {
     "name": "stdout",
     "output_type": "stream",
     "text": [
      "Process ENSG00000079335.pdb completed in 242.77 seconds.\n",
      "Current input_pdb: ENSG00000079337.pdb\n"
     ]
    },
    {
     "name": "stderr",
     "output_type": "stream",
     "text": [
      "WARNING: Masses and atomic (Van der Waals) radii will be guessed\n",
      "WARNING 1 [file topol.top, line 50]:\n",
      "WARNING 2 [file topol.top, line 50]:\n",
      "There were 2 WARNINGs\n",
      "Using random seed 12345.\n",
      "Steepest Descents did not converge to Fmax < 0 in 5001 steps.\n",
      "WARNING 1 [file topol.top, line 52]:\n",
      "There was 1 WARNING\n",
      "Setting the maximum number of constraint warnings to 2147483647\n"
     ]
    },
    {
     "name": "stdout",
     "output_type": "stream",
     "text": [
      "Process ENSG00000079337.pdb completed in 211.62 seconds.\n",
      "Current input_pdb: ENSG00000079387.pdb\n"
     ]
    },
    {
     "name": "stderr",
     "output_type": "stream",
     "text": [
      "WARNING: Masses and atomic (Van der Waals) radii will be guessed\n",
      "WARNING 1 [file topol.top, line 50]:\n",
      "WARNING 2 [file topol.top, line 50]:\n",
      "There were 2 WARNINGs\n",
      "Using random seed 12345.\n",
      "Steepest Descents did not converge to Fmax < 0 in 5001 steps.\n",
      "WARNING 1 [file topol.top, line 52]:\n",
      "There was 1 WARNING\n",
      "Setting the maximum number of constraint warnings to 2147483647\n",
      "rm: cannot remove 'step*.pdb': No such file or directory\n"
     ]
    },
    {
     "name": "stdout",
     "output_type": "stream",
     "text": [
      "Process ENSG00000079387.pdb completed in 200.67 seconds.\n",
      "Current input_pdb: ENSG00000079432.pdb\n"
     ]
    },
    {
     "name": "stderr",
     "output_type": "stream",
     "text": [
      "WARNING: Masses and atomic (Van der Waals) radii will be guessed\n",
      "WARNING 1 [file topol.top, line 50]:\n",
      "WARNING 2 [file topol.top, line 50]:\n",
      "There were 2 WARNINGs\n",
      "Using random seed 12345.\n",
      "Steepest Descents did not converge to Fmax < 0 in 5001 steps.\n",
      "WARNING 1 [file topol.top, line 52]:\n",
      "There was 1 WARNING\n",
      "Setting the maximum number of constraint warnings to 2147483647\n"
     ]
    },
    {
     "name": "stdout",
     "output_type": "stream",
     "text": [
      "Process ENSG00000079432.pdb completed in 198.30 seconds.\n",
      "Current input_pdb: ENSG00000079459.pdb\n"
     ]
    },
    {
     "name": "stderr",
     "output_type": "stream",
     "text": [
      "WARNING: Masses and atomic (Van der Waals) radii will be guessed\n",
      "WARNING 1 [file topol.top, line 50]:\n",
      "WARNING 2 [file topol.top, line 50]:\n",
      "There were 2 WARNINGs\n",
      "Using random seed 12345.\n",
      "Steepest Descents did not converge to Fmax < 0 in 5001 steps.\n",
      "WARNING 1 [file topol.top, line 52]:\n",
      "There was 1 WARNING\n",
      "Setting the maximum number of constraint warnings to 2147483647\n"
     ]
    },
    {
     "name": "stdout",
     "output_type": "stream",
     "text": [
      "Process ENSG00000079459.pdb completed in 216.82 seconds.\n",
      "Current input_pdb: ENSG00000079462.pdb\n"
     ]
    },
    {
     "name": "stderr",
     "output_type": "stream",
     "text": [
      "WARNING: Masses and atomic (Van der Waals) radii will be guessed\n",
      "WARNING 1 [file topol.top, line 50]:\n",
      "WARNING 2 [file topol.top, line 50]:\n",
      "There were 2 WARNINGs\n",
      "Using random seed 12345.\n",
      "Steepest Descents converged to machine precision in 4557 steps,\n",
      "Steepest Descents converged to machine precision in 4984 steps,\n",
      "Steepest Descents converged to machine precision in 4438 steps,\n",
      "WARNING 1 [file topol.top, line 52]:\n",
      "There was 1 WARNING\n",
      "Setting the maximum number of constraint warnings to 2147483647\n"
     ]
    },
    {
     "name": "stdout",
     "output_type": "stream",
     "text": [
      "Process ENSG00000079462.pdb completed in 323.99 seconds.\n",
      "Current input_pdb: ENSG00000079482.pdb\n"
     ]
    },
    {
     "name": "stderr",
     "output_type": "stream",
     "text": [
      "WARNING: Masses and atomic (Van der Waals) radii will be guessed\n",
      "WARNING 1 [file topol.top, line 50]:\n",
      "WARNING 2 [file topol.top, line 50]:\n",
      "There were 2 WARNINGs\n",
      "Using random seed 12345.\n",
      "Steepest Descents did not converge to Fmax < 0 in 5001 steps.\n",
      "WARNING 1 [file topol.top, line 52]:\n",
      "There was 1 WARNING\n",
      "Setting the maximum number of constraint warnings to 2147483647\n",
      "rm: cannot remove 'step*.pdb': No such file or directory\n"
     ]
    },
    {
     "name": "stdout",
     "output_type": "stream",
     "text": [
      "Process ENSG00000079482.pdb completed in 203.52 seconds.\n",
      "Current input_pdb: ENSG00000079616.pdb\n"
     ]
    },
    {
     "name": "stderr",
     "output_type": "stream",
     "text": [
      "WARNING: Masses and atomic (Van der Waals) radii will be guessed\n",
      "WARNING 1 [file topol.top, line 50]:\n",
      "WARNING 2 [file topol.top, line 50]:\n",
      "There were 2 WARNINGs\n",
      "Fatal error:\n",
      "Error in user input:\n",
      "      (call to fopen() returned error code 2)\n",
      "      (call to fopen() returned error code 2)\n",
      "website at https://manual.gromacs.org/current/user-guide/run-time-errors.html\n",
      "Error in user input:\n",
      "website at https://manual.gromacs.org/current/user-guide/run-time-errors.html\n",
      "Error in user input:\n",
      "website at https://manual.gromacs.org/current/user-guide/run-time-errors.html\n",
      "Error in user input:\n",
      "website at https://manual.gromacs.org/current/user-guide/run-time-errors.html\n",
      "Process ENSG00000079616.pdb failed in 3.75 seconds.\n",
      "rm: cannot remove 'step*.pdb': No such file or directory\n",
      "rm: cannot remove '*.tpr': No such file or directory\n"
     ]
    },
    {
     "name": "stdout",
     "output_type": "stream",
     "text": [
      "Current input_pdb: ENSG00000079691.pdb\n"
     ]
    },
    {
     "name": "stderr",
     "output_type": "stream",
     "text": [
      "WARNING: Masses and atomic (Van der Waals) radii will be guessed\n",
      "WARNING 1 [file topol.top, line 50]:\n",
      "WARNING 2 [file topol.top, line 50]:\n",
      "There were 2 WARNINGs\n",
      "Using random seed 12345.\n",
      "Steepest Descents converged to machine precision in 4212 steps,\n",
      "Steepest Descents converged to machine precision in 3697 steps,\n",
      "Steepest Descents converged to machine precision in 4569 steps,\n",
      "WARNING 1 [file topol.top, line 52]:\n",
      "There was 1 WARNING\n",
      "Setting the maximum number of constraint warnings to 2147483647\n"
     ]
    },
    {
     "name": "stdout",
     "output_type": "stream",
     "text": [
      "Process ENSG00000079691.pdb completed in 279.01 seconds.\n",
      "Current input_pdb: ENSG00000079739.pdb\n"
     ]
    },
    {
     "name": "stderr",
     "output_type": "stream",
     "text": [
      "WARNING: Masses and atomic (Van der Waals) radii will be guessed\n",
      "WARNING 1 [file topol.top, line 50]:\n",
      "WARNING 2 [file topol.top, line 50]:\n",
      "There were 2 WARNINGs\n",
      "Using random seed 12345.\n",
      "Steepest Descents did not converge to Fmax < 0 in 5001 steps.\n",
      "WARNING 1 [file topol.top, line 52]:\n",
      "There was 1 WARNING\n",
      "Setting the maximum number of constraint warnings to 2147483647\n",
      "rm: cannot remove 'step*.pdb': No such file or directory\n"
     ]
    },
    {
     "name": "stdout",
     "output_type": "stream",
     "text": [
      "Process ENSG00000079739.pdb completed in 198.20 seconds.\n",
      "Current input_pdb: ENSG00000079785.pdb\n"
     ]
    },
    {
     "name": "stderr",
     "output_type": "stream",
     "text": [
      "WARNING: Masses and atomic (Van der Waals) radii will be guessed\n",
      "WARNING 1 [file topol.top, line 50]:\n",
      "WARNING 2 [file topol.top, line 50]:\n",
      "There were 2 WARNINGs\n",
      "Using random seed 12345.\n",
      "Steepest Descents converged to machine precision in 4812 steps,\n",
      "Steepest Descents did not converge to Fmax < 0 in 5001 steps.\n",
      "WARNING 1 [file topol.top, line 52]:\n",
      "There was 1 WARNING\n",
      "Setting the maximum number of constraint warnings to 2147483647\n"
     ]
    },
    {
     "name": "stdout",
     "output_type": "stream",
     "text": [
      "Process ENSG00000079785.pdb completed in 255.49 seconds.\n",
      "Current input_pdb: ENSG00000079805.pdb\n"
     ]
    },
    {
     "name": "stderr",
     "output_type": "stream",
     "text": [
      "WARNING: Masses and atomic (Van der Waals) radii will be guessed\n",
      "WARNING 1 [file topol.top, line 50]:\n",
      "WARNING 2 [file topol.top, line 50]:\n",
      "There were 2 WARNINGs\n",
      "Using random seed 12345.\n",
      "Steepest Descents did not converge to Fmax < 0 in 5001 steps.\n",
      "WARNING 1 [file topol.top, line 52]:\n",
      "There was 1 WARNING\n",
      "Setting the maximum number of constraint warnings to 2147483647\n"
     ]
    },
    {
     "name": "stdout",
     "output_type": "stream",
     "text": [
      "Process ENSG00000079805.pdb completed in 174.52 seconds.\n",
      "Current input_pdb: ENSG00000079819.pdb\n"
     ]
    },
    {
     "name": "stderr",
     "output_type": "stream",
     "text": [
      "WARNING: Masses and atomic (Van der Waals) radii will be guessed\n",
      "WARNING 1 [file topol.top, line 50]:\n",
      "WARNING 2 [file topol.top, line 50]:\n",
      "There were 2 WARNINGs\n",
      "Using random seed 12345.\n",
      "Steepest Descents did not converge to Fmax < 0 in 5001 steps.\n",
      "WARNING 1 [file topol.top, line 52]:\n",
      "There was 1 WARNING\n",
      "Setting the maximum number of constraint warnings to 2147483647\n",
      "rm: cannot remove 'step*.pdb': No such file or directory\n"
     ]
    },
    {
     "name": "stdout",
     "output_type": "stream",
     "text": [
      "Process ENSG00000079819.pdb completed in 201.90 seconds.\n",
      "Current input_pdb: ENSG00000079841.pdb\n"
     ]
    },
    {
     "name": "stderr",
     "output_type": "stream",
     "text": [
      "WARNING: Masses and atomic (Van der Waals) radii will be guessed\n",
      "WARNING 1 [file topol.top, line 50]:\n",
      "WARNING 2 [file topol.top, line 50]:\n",
      "There were 2 WARNINGs\n",
      "Using random seed 12345.\n",
      "Steepest Descents did not converge to Fmax < 0 in 5001 steps.\n",
      "WARNING 1 [file topol.top, line 52]:\n",
      "There was 1 WARNING\n",
      "Setting the maximum number of constraint warnings to 2147483647\n"
     ]
    },
    {
     "name": "stdout",
     "output_type": "stream",
     "text": [
      "Process ENSG00000079841.pdb completed in 202.94 seconds.\n",
      "Current input_pdb: ENSG00000079950.pdb\n"
     ]
    },
    {
     "name": "stderr",
     "output_type": "stream",
     "text": [
      "WARNING: Masses and atomic (Van der Waals) radii will be guessed\n",
      "WARNING 1 [file topol.top, line 50]:\n",
      "WARNING 2 [file topol.top, line 50]:\n",
      "There were 2 WARNINGs\n",
      "Using random seed 12345.\n",
      "Steepest Descents did not converge to Fmax < 0 in 5001 steps.\n",
      "WARNING 1 [file topol.top, line 52]:\n",
      "There was 1 WARNING\n",
      "Setting the maximum number of constraint warnings to 2147483647\n"
     ]
    },
    {
     "name": "stdout",
     "output_type": "stream",
     "text": [
      "Process ENSG00000079950.pdb completed in 208.07 seconds.\n",
      "Current input_pdb: ENSG00000079974.pdb\n"
     ]
    },
    {
     "name": "stderr",
     "output_type": "stream",
     "text": [
      "WARNING: Masses and atomic (Van der Waals) radii will be guessed\n",
      "WARNING 1 [file topol.top, line 50]:\n",
      "WARNING 2 [file topol.top, line 50]:\n",
      "There were 2 WARNINGs\n",
      "Using random seed 12345.\n",
      "Steepest Descents converged to machine precision in 4361 steps,\n",
      "Steepest Descents converged to machine precision in 4586 steps,\n",
      "Steepest Descents converged to machine precision in 4656 steps,\n",
      "WARNING 1 [file topol.top, line 52]:\n",
      "There was 1 WARNING\n",
      "Setting the maximum number of constraint warnings to 2147483647\n"
     ]
    },
    {
     "name": "stdout",
     "output_type": "stream",
     "text": [
      "Process ENSG00000079974.pdb completed in 298.42 seconds.\n",
      "Current input_pdb: ENSG00000079999.pdb\n"
     ]
    },
    {
     "name": "stderr",
     "output_type": "stream",
     "text": [
      "WARNING: Masses and atomic (Van der Waals) radii will be guessed\n",
      "WARNING 1 [file topol.top, line 50]:\n",
      "WARNING 2 [file topol.top, line 50]:\n",
      "There were 2 WARNINGs\n",
      "Using random seed 12345.\n",
      "Steepest Descents converged to machine precision in 4839 steps,\n",
      "Steepest Descents did not converge to Fmax < 0 in 5001 steps.\n",
      "WARNING 1 [file topol.top, line 52]:\n",
      "There was 1 WARNING\n",
      "Setting the maximum number of constraint warnings to 2147483647\n"
     ]
    },
    {
     "name": "stdout",
     "output_type": "stream",
     "text": [
      "Process ENSG00000079999.pdb completed in 258.34 seconds.\n",
      "Current input_pdb: ENSG00000080189.pdb\n"
     ]
    },
    {
     "name": "stderr",
     "output_type": "stream",
     "text": [
      "WARNING: Masses and atomic (Van der Waals) radii will be guessed\n",
      "WARNING 1 [file topol.top, line 50]:\n",
      "WARNING 2 [file topol.top, line 50]:\n",
      "There were 2 WARNINGs\n",
      "Using random seed 12345.\n",
      "Steepest Descents converged to machine precision in 4018 steps,\n",
      "Steepest Descents did not converge to Fmax < 0 in 5001 steps.\n",
      "WARNING 1 [file topol.top, line 52]:\n",
      "There was 1 WARNING\n",
      "Setting the maximum number of constraint warnings to 2147483647\n"
     ]
    },
    {
     "name": "stdout",
     "output_type": "stream",
     "text": [
      "Process ENSG00000080189.pdb completed in 250.13 seconds.\n",
      "Current input_pdb: ENSG00000080200.pdb\n"
     ]
    },
    {
     "name": "stderr",
     "output_type": "stream",
     "text": [
      "WARNING: Masses and atomic (Van der Waals) radii will be guessed\n",
      "WARNING 1 [file topol.top, line 50]:\n",
      "WARNING 2 [file topol.top, line 50]:\n",
      "There were 2 WARNINGs\n",
      "Using random seed 12345.\n",
      "Steepest Descents converged to machine precision in 4670 steps,\n",
      "Steepest Descents did not converge to Fmax < 0 in 5001 steps.\n",
      "WARNING 1 [file topol.top, line 52]:\n",
      "There was 1 WARNING\n"
     ]
    }
   ],
   "source": [
    "import subprocess\n",
    "import os\n",
    "import shutil\n",
    "import time\n",
    "import re\n",
    "import sys\n",
    "\n",
    "\n",
    "os.environ['PATH'] = '/data/home/mrichte3/gromacs-2024.2/install/bin:' + os.environ['PATH']\n",
    "if 'LD_LIBRARY_PATH' in os.environ:\n",
    "    os.environ['LD_LIBRARY_PATH'] = '/data/home/mrichte3/gromacs-2024.2/install/lib:' + os.environ['LD_LIBRARY_PATH']\n",
    "else:\n",
    "    os.environ['LD_LIBRARY_PATH'] = '/data/home/mrichte3/gromacs-2024.2/install/lib'\n",
    "os.environ['GMX_MAXBACKUP'] = '-1'\n",
    "os.environ['GMX_MAXCONSTRWARN'] = '-1'\n",
    "\n",
    "# if len(sys.argv) != 2:\n",
    "#     print(\"Usage: python script.py <gpu_index>\", flush=True)\n",
    "#     sys.exit(1)\n",
    "# gpu_index = int(sys.argv[1])\n",
    "# pdb_directory = '/data/home/mrichte3/RNASeq/amide/'\n",
    "gpu_index = 0\n",
    "num_gpus = 6\n",
    "pdb_directory = '/data/home/mrichte3/RNASeq/amide/'\n",
    "\n",
    "\n",
    "def run_command(command, input_text=None, max_chars=100):\n",
    "    result = subprocess.run(command, capture_output=True, text=True, input=input_text)\n",
    "    output = result.stdout + result.stderr\n",
    "    # print(output)\n",
    "    for line in output.splitlines():\n",
    "        if \"warning\" in line.lower() or \"fatal\" in line.lower() or \"random\" in line.lower():\n",
    "            print(line[:max_chars], file=sys.stderr)\n",
    "\n",
    "def run_mini(command, input_text=None):\n",
    "    result = subprocess.run(command, capture_output=True, text=True, input=input_text)\n",
    "    output = result.stdout + result.stderr\n",
    "    # print(output)\n",
    "    for line in output.splitlines():\n",
    "        if (\"steepest descents converged to\" in line.lower() or\n",
    "            \"fatal\" in line.lower() or\n",
    "            \"error\" in line.lower() or\n",
    "            \"steepest descents did not converge\" in line.lower()):\n",
    "            print(line, file=sys.stderr)\n",
    "            match = re.search(r'(\\d+) steps', line)\n",
    "            if match:\n",
    "                steps = int(match.group(1))\n",
    "                return steps == 5001\n",
    "    return False\n",
    "    \n",
    "def run_stucture_setup(input_pdb):\n",
    "    rm_command = \"rm *.gro\"\n",
    "    subprocess.run(rm_command, shell=True)\n",
    "    rm_command = \"rm *.tpr\"\n",
    "    subprocess.run(rm_command, shell=True)\n",
    "    command = [\"gmx\", \"pdb2gmx\", \"-f\", f\"{input_pdb}\", \"-o\", \"structure_processed.gro\", \n",
    "               \"-p\", \"topol.top\", \"-i\", \"posre.itp\"]\n",
    "    input_text = \"6\\n1\\n\"        ############ 6 1 for custom\n",
    "    run_command(command, input_text)\n",
    "    command = [\"gmx\", \"editconf\", \"-f\", \"structure_processed.gro\", \"-o\", \"structure_box.gro\", \"-c\", \"-d\", \"1.0\", \"-bt\", \"cubic\"]\n",
    "    run_command(command)\n",
    "    command = [\"gmx\", \"solvate\", \"-cp\", \"structure_box.gro\", \"-cs\", \"spc216.gro\", \"-o\", \"structure_solv.gro\", \"-p\", \"topol.top\"]\n",
    "    run_command(command)\n",
    "    ###########################fails\n",
    "    command = [\"gmx\", \"grompp\", \"-f\", \"ions.mdp\", \"-c\", \"structure_solv.gro\", \"-p\", \"topol.top\", \"-o\", \"ions.tpr\", \"-maxwarn\", \"3\"]\n",
    "    run_command(command)\n",
    "    command = [\"gmx\", \"genion\", \"-s\", \"ions.tpr\", \"-o\", \"structure_solv_ions.gro\", \"-p\", \"topol.top\", \n",
    "               \"-pname\", \"NA\", \"-nname\", \"CL\", \"-neutral\", \"-conc\", \"0.15\", \"-seed\", \"12345\"]\n",
    "    input_text = \"14\\n\"\n",
    "    run_command(command, input_text)\n",
    "    command = [\"gmx\", \"make_ndx\", \"-f\", \"structure_solv_ions.gro\", \"-o\", \"index.ndx\"]\n",
    "    input_text = \"name 19 SOLV\\n1 | 12\\nname 20 SOLU\\nq\\n\"\n",
    "    run_command(command, input_text)\n",
    "\n",
    "def get_pdb_files(pdb_directory, gpu_index, num_gpus):\n",
    "    error_file_path = f\"{pdb_directory}errors.txt\"\n",
    "    error_entries = set()\n",
    "    if os.path.isfile(error_file_path):\n",
    "        with open(error_file_path, \"r\") as error_file:\n",
    "            error_entries = {line.strip() for line in error_file}\n",
    "    pdb_files = sorted([f for f in os.listdir(pdb_directory) if f.endswith('.pdb')])\n",
    "    completed_files = {os.path.splitext(f)[0] for f in os.listdir(os.path.join(pdb_directory, 'step5')) if f.endswith('.gro')}\n",
    "    pdb_files = [f for f in pdb_files if os.path.splitext(f)[0] not in completed_files and os.path.splitext(f)[0] not in {os.path.splitext(entry)[0] for entry in error_entries}]\n",
    "    total_rows = len(pdb_files)\n",
    "    portion_size = total_rows // num_gpus\n",
    "    start_idx = gpu_index * portion_size\n",
    "    end_idx = (gpu_index + 1) * portion_size if gpu_index < (num_gpus - 1) else total_rows\n",
    "    pdb_files = pdb_files[start_idx:end_idx]\n",
    "    return pdb_files\n",
    "\n",
    "pdb_files = get_pdb_files(pdb_directory, gpu_index, num_gpus)\n",
    "print(f\"Number of pdb_files to process: {len(pdb_files)}\")\n",
    "\n",
    "\n",
    "\n",
    "for input_pdb in pdb_files:\n",
    "    print(f\"Current input_pdb: {input_pdb}\")\n",
    "    start_time = time.time()\n",
    "    run_stucture_setup(os.path.join(pdb_directory, input_pdb))\n",
    "\n",
    "    command = [\"gmx\", \"grompp\", \"-v\", \"-f\", f\"step4.0_minimization.mdp\", \"-o\", f\"step4.0_minimization.tpr\", \n",
    "               \"-c\", f\"structure_solv_ions.gro\", \"-r\", f\"structure_solv_ions.gro\", \n",
    "               \"-p\", \"topol.top\", \"-n\", \"index.ndx\", \"-maxwarn\", \"5\"]\n",
    "    run_mini(command)\n",
    "    command = [\"gmx\", \"mdrun\", \"-v\", \"-deffnm\", \"step4.0_minimization\", \"-ntmpi\", \"1\"]\n",
    "    tries = 0\n",
    "    while tries < 3 and not run_mini(command):\n",
    "        tries += 1\n",
    "    command_grompp = [\"gmx\", \"grompp\", \"-f\", f\"step5_production.mdp\", \"-o\", f\"step5.tpr\",\n",
    "                      \"-c\", f\"step4.0_minimization.gro\", \"-p\", \"topol.top\", \"-n\", \"index.ndx\", \"-maxwarn\", \"5\"]\n",
    "    run_command(command_grompp)\n",
    "    command_mdrun = [\"gmx\", \"mdrun\", \"-v\", \"-deffnm\", \"step5\", \"-ntmpi\", \"1\"]\n",
    "    run_command(command_mdrun)\n",
    "\n",
    "    elapsed_time = time.time() - start_time\n",
    "\n",
    "    if not os.path.isfile(\"step5.gro\"):\n",
    "        with open(f\"{pdb_directory}errors.txt\", \"a\") as error_file:\n",
    "            error_file.write(f\"{input_pdb}\\n\")\n",
    "        print(f\"Process {input_pdb} failed in {elapsed_time:.2f} seconds.\", file=sys.stderr)\n",
    "    else:\n",
    "        basename = os.path.splitext(os.path.basename(input_pdb))[0]\n",
    "        mv_command = [\"mv\", \"step5.gro\", f\"{pdb_directory}step5/{basename}.gro\"]\n",
    "        run_command(mv_command)\n",
    "        print(f\"Process {input_pdb} completed in {elapsed_time:.2f} seconds.\")\n",
    "    rm_command = \"rm step*.pdb\"\n",
    "    subprocess.run(rm_command, shell=True)\n",
    "    # basename = os.path.splitext(os.path.basename(input_pdb))[0]\n",
    "    # mv_command = [\"mv\", \"step5.gro\", f\"/data/home/mrichte3/RNASeq/amide/step5/{basename}.gro\"]\n",
    "    # run_command(mv_command)\n",
    "\n",
    "\n",
    "\n",
    "\n",
    "\n",
    "\n",
    "\n",
    "\n",
    "\n",
    "\n"
   ]
  },
  {
   "cell_type": "code",
   "execution_count": null,
   "id": "7018a02c-c6f8-46f7-b199-00c5333386f5",
   "metadata": {
    "jupyter": {
     "source_hidden": true
    }
   },
   "outputs": [],
   "source": [
    "### TEMPORARY SETUP, DON'T RUN\n",
    "import subprocess\n",
    "import os\n",
    "import shutil\n",
    "import time\n",
    "import re\n",
    "import sys\n",
    "os.environ['PATH'] = '/data/home/mrichte3/gromacs-2024.2/install/bin:' + os.environ['PATH']\n",
    "if 'LD_LIBRARY_PATH' in os.environ:\n",
    "    os.environ['LD_LIBRARY_PATH'] = '/data/home/mrichte3/gromacs-2024.2/install/lib:' + os.environ['LD_LIBRARY_PATH']\n",
    "else:\n",
    "    os.environ['LD_LIBRARY_PATH'] = '/data/home/mrichte3/gromacs-2024.2/install/lib'\n",
    "os.environ['GMX_MAXBACKUP'] = '-1'\n",
    "os.environ['GMX_MAXCONSTRWARN'] = '-1'\n",
    "\n",
    "def run_command(command, input_text=None, max_chars=100):\n",
    "    result = subprocess.run(command, capture_output=True, text=True, input=input_text)\n",
    "    output = result.stdout + result.stderr\n",
    "    # print(output)\n",
    "    for line in output.splitlines():\n",
    "        if \"warning\" in line.lower() or \"fatal\" in line.lower() or \"random\" in line.lower():\n",
    "            print(line[:max_chars], file=sys.stderr)\n",
    "\n",
    "def run_mini(command, input_text=None):\n",
    "    result = subprocess.run(command, capture_output=True, text=True, input=input_text)\n",
    "    output = result.stdout + result.stderr\n",
    "    # print(output)\n",
    "    for line in output.splitlines():\n",
    "        if (\"steepest descents converged to\" in line.lower() or\n",
    "            \"fatal\" in line.lower() or\n",
    "            \"error\" in line.lower() or\n",
    "            \"steepest descents did not converge\" in line.lower()):\n",
    "            print(line, file=sys.stderr)\n",
    "            match = re.search(r'(\\d+) steps', line)\n",
    "            if match:\n",
    "                steps = int(match.group(1))\n",
    "                return steps == 5001\n",
    "    return False\n",
    "    \n",
    "def run_stucture_setup(input_pdb):\n",
    "    rm_command = \"rm *.gro\"\n",
    "    subprocess.run(rm_command, shell=True)\n",
    "    rm_command = \"rm *.tpr\"\n",
    "    subprocess.run(rm_command, shell=True)\n",
    "    command = [\"gmx\", \"pdb2gmx\", \"-f\", f\"{input_pdb}\", \"-o\", \"structure_processed.gro\", \n",
    "               \"-p\", \"topol.top\", \"-i\", \"posre.itp\"]\n",
    "    input_text = \"6\\n1\\n\"        ############ 6 1 for custom\n",
    "    run_command(command, input_text)\n",
    "    command = [\"gmx\", \"editconf\", \"-f\", \"structure_processed.gro\", \"-o\", \"structure_box.gro\", \"-c\", \"-d\", \"1.0\", \"-bt\", \"cubic\"]\n",
    "    run_command(command)\n",
    "    command = [\"gmx\", \"solvate\", \"-cp\", \"structure_box.gro\", \"-cs\", \"spc216.gro\", \"-o\", \"structure_solv.gro\", \"-p\", \"topol.top\"]\n",
    "    run_command(command)\n",
    "    ###########################fails\n",
    "    command = [\"gmx\", \"grompp\", \"-f\", \"ions.mdp\", \"-c\", \"structure_solv.gro\", \"-p\", \"topol.top\", \"-o\", \"ions.tpr\", \"-maxwarn\", \"3\"]\n",
    "    run_command(command)\n",
    "    command = [\"gmx\", \"genion\", \"-s\", \"ions.tpr\", \"-o\", \"structure_solv_ions.gro\", \"-p\", \"topol.top\", \n",
    "               \"-pname\", \"NA\", \"-nname\", \"CL\", \"-neutral\", \"-conc\", \"0.15\", \"-seed\", \"12345\"]\n",
    "    input_text = \"14\\n\"\n",
    "    run_command(command, input_text)\n",
    "    command = [\"gmx\", \"make_ndx\", \"-f\", \"structure_solv_ions.gro\", \"-o\", \"index.ndx\"]\n",
    "    input_text = \"name 19 SOLV\\n1 | 12\\nname 20 SOLU\\nq\\n\"\n",
    "    run_command(command, input_text)\n",
    "\n",
    "import os\n",
    "\n",
    "def get_pdb_files(pdb_directory):\n",
    "    process_number = 1\n",
    "    error_file_path = \"../amide_errors.txt\"\n",
    "    error_entries = set()\n",
    "    if os.path.isfile(error_file_path):\n",
    "        with open(error_file_path, \"r\") as error_file:\n",
    "            error_entries = {line.strip() for line in error_file}\n",
    "    \n",
    "    pdb_files = sorted([f for f in os.listdir(pdb_directory) if f.endswith('.pdb')])\n",
    "    completed_files = {os.path.splitext(f)[0] for f in os.listdir(os.path.join(pdb_directory, 'step5')) if f.endswith('.gro')}\n",
    "    pdb_files = [f for f in pdb_files if os.path.splitext(f)[0] not in completed_files and os.path.splitext(f)[0] not in {os.path.splitext(entry)[0] for entry in error_entries}]\n",
    "    print(f\"Number of pdb_files to process before truncate: {len(pdb_files)}\")\n",
    "    truncate_file = 'ENSG00000105497.pdb'\n",
    "    truncate_index = pdb_files.index(truncate_file) if truncate_file in pdb_files else len(pdb_files)\n",
    "    pdb_files = pdb_files[:truncate_index]\n",
    "    print(f\"Number of pdb_files to process after truncate: {len(pdb_files)}\")\n",
    "    total_files = len(pdb_files)\n",
    "    half_size = total_files // 2\n",
    "    if process_number == 1:\n",
    "        pdb_files = pdb_files[:half_size]\n",
    "    elif process_number == 2:\n",
    "        pdb_files = pdb_files[half_size:]\n",
    "    print(f\"Number of pdb_files to process: {len(pdb_files)}\")\n",
    "    return pdb_files\n",
    "\n",
    "pdb_directory = '/data/home/mrichte3/RNASeq/amide/'\n",
    "pdb_files = get_pdb_files(pdb_directory)\n",
    "\n",
    "for input_pdb in pdb_files:\n",
    "    print(f\"Current input_pdb: {input_pdb}\")\n",
    "    start_time = time.time()\n",
    "    run_stucture_setup(os.path.join(pdb_directory, input_pdb))\n",
    "\n",
    "    command = [\"gmx\", \"grompp\", \"-v\", \"-f\", f\"step4.0_minimization.mdp\", \"-o\", f\"step4.0_minimization.tpr\", \n",
    "               \"-c\", f\"structure_solv_ions.gro\", \"-r\", f\"structure_solv_ions.gro\", \n",
    "               \"-p\", \"topol.top\", \"-n\", \"index.ndx\", \"-maxwarn\", \"5\"]\n",
    "    run_mini(command)\n",
    "    command = [\"gmx\", \"mdrun\", \"-v\", \"-deffnm\", \"step4.0_minimization\", \"-ntmpi\", \"1\"]\n",
    "    tries = 0\n",
    "    while tries < 3 and not run_mini(command):\n",
    "        tries += 1\n",
    "    command_grompp = [\"gmx\", \"grompp\", \"-f\", f\"step5_production.mdp\", \"-o\", f\"step5.tpr\",\n",
    "                      \"-c\", f\"step4.0_minimization.gro\", \"-p\", \"topol.top\", \"-n\", \"index.ndx\", \"-maxwarn\", \"5\"]\n",
    "    run_command(command_grompp)\n",
    "    command_mdrun = [\"gmx\", \"mdrun\", \"-v\", \"-deffnm\", \"step5\", \"-ntmpi\", \"1\"]\n",
    "    run_command(command_mdrun)\n",
    "\n",
    "    elapsed_time = time.time() - start_time\n",
    "\n",
    "    if not os.path.isfile(\"step5.gro\"):\n",
    "        with open(\"../amide_errors.txt\", \"a\") as error_file:\n",
    "            error_file.write(f\"{input_pdb}\\n\")\n",
    "        print(f\"Process {input_pdb} failed in {elapsed_time:.2f} seconds.\", file=sys.stderr)\n",
    "    else:\n",
    "        basename = os.path.splitext(os.path.basename(input_pdb))[0]\n",
    "        mv_command = [\"mv\", \"step5.gro\", f\"/data/home/mrichte3/RNASeq/amide/step5/{basename}.gro\"]\n",
    "        run_command(mv_command)\n",
    "        print(f\"Process {input_pdb} completed in {elapsed_time:.2f} seconds.\")\n",
    "    # basename = os.path.splitext(os.path.basename(input_pdb))[0]\n",
    "    # mv_command = [\"mv\", \"step5.gro\", f\"/data/home/mrichte3/RNASeq/amide/step5/{basename}.gro\"]\n",
    "    # run_command(mv_command)\n",
    "    # rm_command = \"rm step*.pdb\"\n",
    "    # subprocess.run(rm_command, shell=True)\n",
    "\n",
    "\n",
    "\n",
    "\n",
    "\n",
    "\n",
    "\n"
   ]
  },
  {
   "cell_type": "code",
   "execution_count": null,
   "id": "b59c9b27-f459-4b33-a8dd-fc28907c1e1e",
   "metadata": {},
   "outputs": [],
   "source": []
  }
 ],
 "metadata": {
  "kernelspec": {
   "display_name": "Python 3 (ipykernel)",
   "language": "python",
   "name": "python3"
  },
  "language_info": {
   "codemirror_mode": {
    "name": "ipython",
    "version": 3
   },
   "file_extension": ".py",
   "mimetype": "text/x-python",
   "name": "python",
   "nbconvert_exporter": "python",
   "pygments_lexer": "ipython3",
   "version": "3.12.2"
  }
 },
 "nbformat": 4,
 "nbformat_minor": 5
}
